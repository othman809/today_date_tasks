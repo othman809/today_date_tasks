{
 "cells": [
  {
   "cell_type": "code",
   "execution_count": 1,
   "id": "67010d47-7481-4af5-9dec-3bfbcae1a0b9",
   "metadata": {},
   "outputs": [
    {
     "name": "stdout",
     "output_type": "stream",
     "text": [
      "Today's date as a string: 2025-02-26\n",
      "Parsed date: 2025-02-26\n"
     ]
    }
   ],
   "source": [
    "from datetime import date, datetime\n",
    "\n",
    "# 13.1: \n",
    "today = date.today()\n",
    "today_str = today.isoformat()\n",
    "with open(\"today.txt\", \"w\") as file:\n",
    "    file.write(today_str)\n",
    "\n",
    "# 13.2:\n",
    "with open(\"today.txt\", \"r\") as file:\n",
    "    today_string = file.read()\n",
    "\n",
    "print(\"Today's date as a string:\", today_string)\n",
    "\n",
    "# 13.3:\n",
    "parsed_date = datetime.strptime(today_string, \"%Y-%m-%d\").date()\n",
    "print(\"Parsed date:\", parsed_date)"
   ]
  },
  {
   "cell_type": "code",
   "execution_count": null,
   "id": "2cb1ec60-2a48-4977-b206-a85bf14e98b1",
   "metadata": {},
   "outputs": [],
   "source": []
  }
 ],
 "metadata": {
  "kernelspec": {
   "display_name": "Python 3 (ipykernel)",
   "language": "python",
   "name": "python3"
  },
  "language_info": {
   "codemirror_mode": {
    "name": "ipython",
    "version": 3
   },
   "file_extension": ".py",
   "mimetype": "text/x-python",
   "name": "python",
   "nbconvert_exporter": "python",
   "pygments_lexer": "ipython3",
   "version": "3.12.7"
  }
 },
 "nbformat": 4,
 "nbformat_minor": 5
}
