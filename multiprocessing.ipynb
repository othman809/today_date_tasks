{
 "cells": [
  {
   "cell_type": "code",
   "execution_count": null,
   "id": "495db915-cf44-4a38-82b1-58e6b0bd05b6",
   "metadata": {},
   "outputs": [],
   "source": [
    "import multiprocessing\n",
    "import time\n",
    "import random\n",
    "from datetime import datetime\n",
    "\n",
    "def worker_process():\n",
    "    # Generate a random sleep time \n",
    "    sleep_time = random.random()\n",
    "    time.sleep(sleep_time)\n",
    "\n",
    "    # Get the current time\n",
    "    current_time = datetime.now().strftime(\"%H:%M:%S\")\n",
    "    print(f\"Process {multiprocessing.current_process().name} waited {sleep_time:.2f} seconds. Current time: {current_time}\")\n",
    "\n",
    "if __name__ == \"__main__\":\n",
    "    # Create three processes\n",
    "    processes = []\n",
    "    for i in range(3):\n",
    "        p = multiprocessing.Process(target=worker_process, name=f\"Process-{i+1}\")\n",
    "        processes.append(p)\n",
    "        p.start()  # Start the process\n",
    "\n",
    "    # Wait for all processes\n",
    "    for p in processes:\n",
    "        p.join()\n",
    "\n",
    "    print(\"All processes have finished.\")"
   ]
  }
 ],
 "metadata": {
  "kernelspec": {
   "display_name": "Python 3 (ipykernel)",
   "language": "python",
   "name": "python3"
  },
  "language_info": {
   "codemirror_mode": {
    "name": "ipython",
    "version": 3
   },
   "file_extension": ".py",
   "mimetype": "text/x-python",
   "name": "python",
   "nbconvert_exporter": "python",
   "pygments_lexer": "ipython3",
   "version": "3.12.7"
  }
 },
 "nbformat": 4,
 "nbformat_minor": 5
}
