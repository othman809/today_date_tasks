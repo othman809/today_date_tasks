{
 "cells": [
  {
   "cell_type": "code",
   "execution_count": null,
   "id": "84c7ed16-bbed-41ea-a92e-ec3f8e861942",
   "metadata": {},
   "outputs": [],
   "source": [
    "from datetime import date\n",
    "\n",
    "# Get today's date\n",
    "today = date.today()\n",
    "\n",
    "# Convert the date to a string in ISO format\n",
    "today_str = today.isoformat()\n",
    "\n",
    "# Write the date string to a file\n",
    "with open(\"today.txt\", \"w\") as file:\n",
    "    file.write(today_str)"
   ]
  }
 ],
 "metadata": {
  "kernelspec": {
   "display_name": "Python 3 (ipykernel)",
   "language": "python",
   "name": "python3"
  },
  "language_info": {
   "codemirror_mode": {
    "name": "ipython",
    "version": 3
   },
   "file_extension": ".py",
   "mimetype": "text/x-python",
   "name": "python",
   "nbconvert_exporter": "python",
   "pygments_lexer": "ipython3",
   "version": "3.12.7"
  }
 },
 "nbformat": 4,
 "nbformat_minor": 5
}
